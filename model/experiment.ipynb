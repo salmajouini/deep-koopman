{
 "cells": [
  {
   "cell_type": "code",
   "execution_count": 1,
   "metadata": {},
   "outputs": [],
   "source": [
    "import torch\n",
    "import torch.nn as nn\n",
    "import torch.nn.functional as F\n",
    "import numpy as np\n",
    "from listmodule import ListModule\n",
    "from torch_rbf import *\n",
    "from networks import *\n",
    "from torchsummary import summary\n",
    "\n",
    "%load_ext autoreload\n",
    "%autoreload 2"
   ]
  },
  {
   "cell_type": "code",
   "execution_count": 21,
   "metadata": {},
   "outputs": [],
   "source": [
    "x = torch.randn((100, 51, 2))\n",
    "u = torch.randn((100, 51, 2))\n",
    "\n",
    "params = {'enc_shape': [2, 100, 50, 1], 'enc_u_shape': [2, 50, 10, 1], 'n_shifts': 51, \n",
    "          'use_rbf': False, 'kernel': 'gaussian', 'use_enc_u': True, 'enc_rbf': False}\n",
    "\n",
    "model = DEINA(params)\n",
    "results = model(x, u)"
   ]
  },
  {
   "cell_type": "code",
   "execution_count": null,
   "metadata": {},
   "outputs": [],
   "source": []
  }
 ],
 "metadata": {
  "kernelspec": {
   "display_name": "Python 3",
   "language": "python",
   "name": "python3"
  },
  "language_info": {
   "codemirror_mode": {
    "name": "ipython",
    "version": 3
   },
   "file_extension": ".py",
   "mimetype": "text/x-python",
   "name": "python",
   "nbconvert_exporter": "python",
   "pygments_lexer": "ipython3",
   "version": "3.7.6"
  }
 },
 "nbformat": 4,
 "nbformat_minor": 2
}
